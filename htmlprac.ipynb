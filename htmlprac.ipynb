{
 "cells": [
  {
   "cell_type": "code",
   "execution_count": 1,
   "id": "4a9e7a4b-2592-43bf-a8a0-f6133754abda",
   "metadata": {},
   "outputs": [],
   "source": [
    "from bs4 import BeautifulSoup"
   ]
  },
  {
   "cell_type": "code",
   "execution_count": 2,
   "id": "a5571a11-401f-4408-a37e-713f3e188586",
   "metadata": {},
   "outputs": [],
   "source": [
    "with open('home.html','r') as html_file:\n",
    "    content = html_file.read()"
   ]
  },
  {
   "cell_type": "code",
   "execution_count": 59,
   "id": "4a0b487b-b202-4fa2-b7d9-5fa58452ae6d",
   "metadata": {},
   "outputs": [],
   "source": [
    "html_file = open('home.html','r')\n",
    "\n",
    "content = html_file.read()"
   ]
  },
  {
   "cell_type": "code",
   "execution_count": 66,
   "id": "4bece157-08c6-4021-bda6-ae0e3462fc7d",
   "metadata": {},
   "outputs": [
    {
     "name": "stdout",
     "output_type": "stream",
     "text": [
      "[<h5 class=\"card-title\">Python for beginners</h5>, <h5 class=\"card-title\">Python Web Development</h5>, <h5 class=\"card-title\">Python Machine Learning</h5>]\n"
     ]
    }
   ],
   "source": [
    "soup=BeautifulSoup(content,'lxml')\n",
    "# print(soup.prettify())\n",
    "htags=soup.find_all('h5')\n",
    "print(htags)"
   ]
  },
  {
   "cell_type": "code",
   "execution_count": 76,
   "id": "061a0b09-b54b-4f57-b50b-11c1b21beffb",
   "metadata": {},
   "outputs": [
    {
     "name": "stdout",
     "output_type": "stream",
     "text": [
      "Python for beginners\n",
      "20$\n",
      "Python for beginners costs20$\n",
      "Python Web Development\n",
      "50$\n",
      "Python Web Development costs50$\n",
      "Python Machine Learning\n",
      "100$\n",
      "Python Machine Learning costs100$\n"
     ]
    }
   ],
   "source": [
    "course_card=soup.find_all('div', class_='card')\n",
    "for course in course_card:\n",
    "    cname=course.h5.text\n",
    "    cprice=course.a.text.split()[-1]\n",
    "    print(cname)\n",
    "    print(cprice)\n",
    "    print(f'{cname} costs{cprice}')\n",
    "\n",
    "\n",
    "\n",
    "\n",
    "\n"
   ]
  },
  {
   "cell_type": "code",
   "execution_count": null,
   "id": "7e6f1a8c-9343-4812-8405-34344185e8c9",
   "metadata": {},
   "outputs": [],
   "source": []
  }
 ],
 "metadata": {
  "kernelspec": {
   "display_name": "Python 3 (ipykernel)",
   "language": "python",
   "name": "python3"
  },
  "language_info": {
   "codemirror_mode": {
    "name": "ipython",
    "version": 3
   },
   "file_extension": ".py",
   "mimetype": "text/x-python",
   "name": "python",
   "nbconvert_exporter": "python",
   "pygments_lexer": "ipython3",
   "version": "3.10.6"
  }
 },
 "nbformat": 4,
 "nbformat_minor": 5
}
