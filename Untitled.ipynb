{
 "cells": [
  {
   "cell_type": "code",
   "execution_count": 1,
   "id": "00296372-7992-4eff-8f3e-7abd64fb42b8",
   "metadata": {},
   "outputs": [],
   "source": [
    "from bs4 import BeautifulSoup"
   ]
  },
  {
   "cell_type": "code",
   "execution_count": 3,
   "id": "c35fb3e2-e42e-4ca1-bc8a-31ff56abaec9",
   "metadata": {},
   "outputs": [],
   "source": [
    "import requests"
   ]
  },
  {
   "cell_type": "code",
   "execution_count": 49,
   "id": "b3d9cc9f-36b3-40d5-8d8c-1542880590c3",
   "metadata": {},
   "outputs": [
    {
     "name": "stdout",
     "output_type": "stream",
     "text": [
      "put onr skills you r ot famillier with\n"
     ]
    },
    {
     "name": "stdin",
     "output_type": "stream",
     "text": [
      "> linux\n"
     ]
    },
    {
     "name": "stdout",
     "output_type": "stream",
     "text": [
      "filtering_out: linux\n",
      "file saved: 2\n",
      "file saved: 5\n",
      "file saved: 9\n",
      "file saved: 10\n",
      "file saved: 19\n",
      "file saved: 22\n"
     ]
    }
   ],
   "source": [
    "\n",
    "print(\"put onr skills you r ot famillier with\")\n",
    "unfamiliar_skill=input('>')\n",
    "print(f'filtering_out: {unfamiliar_skill}') \n",
    "\n",
    "html_text = requests.get('https://www.timesjobs.com/candidate/job-search.html?searchType=personalizedSearch&from=submit&searchTextSrc=&searchTextText=&txtKeywords=python&txtLocation=').text\n",
    "soup=BeautifulSoup(html_text,'lxml')\n",
    "jobs=soup.find_all('li',class_=\"clearfix job-bx wht-shd-bx\")\n",
    "\n",
    "for index,job in enumerate(jobs):\n",
    "    date=job.find('span',class_=\"sim-posted\").span.text\n",
    "    if 'few' in date:\n",
    "        comp_name=job.find('h3',class_=\"joblist-comp-name\").text\n",
    "        skill=job.find('span',class_=\"srp-skills\").text.replace(\" \",\"\")\n",
    "        link=job.header.h2.a['href']\n",
    "        if unfamiliar_skill not in skill:\n",
    "            with open(f'post/{index}.txt','w') as f:\n",
    "                f.write(f\"Company Name: {comp_name.strip()} \\n\")\n",
    "                f.write(f\"Skills: {skill.strip()} \\n\")\n",
    "                f.write(f\"More info: {link} \\n\")\n",
    "            # print(\"\")\n",
    "            print(f\"file saved: {index}\")"
   ]
  },
  {
   "cell_type": "code",
   "execution_count": null,
   "id": "174f2b11-97eb-4fe8-846b-c52ef337d371",
   "metadata": {},
   "outputs": [],
   "source": []
  },
  {
   "cell_type": "code",
   "execution_count": null,
   "id": "630bab42-ad60-4014-9542-5b299920acac",
   "metadata": {},
   "outputs": [],
   "source": []
  }
 ],
 "metadata": {
  "kernelspec": {
   "display_name": "Python 3 (ipykernel)",
   "language": "python",
   "name": "python3"
  },
  "language_info": {
   "codemirror_mode": {
    "name": "ipython",
    "version": 3
   },
   "file_extension": ".py",
   "mimetype": "text/x-python",
   "name": "python",
   "nbconvert_exporter": "python",
   "pygments_lexer": "ipython3",
   "version": "3.10.6"
  }
 },
 "nbformat": 4,
 "nbformat_minor": 5
}
